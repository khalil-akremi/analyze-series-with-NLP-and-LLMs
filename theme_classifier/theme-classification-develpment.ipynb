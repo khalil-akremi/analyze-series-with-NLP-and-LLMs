{
 "cells": [
  {
   "cell_type": "code",
   "execution_count": 37,
   "id": "20971cf3",
   "metadata": {},
   "outputs": [
    {
     "name": "stdout",
     "output_type": "stream",
     "text": [
      "Requirement already satisfied: huggingface_hub[hf_xet] in c:\\users\\user\\desktop\\breaking bad series analysis\\venv\\lib\\site-packages (0.34.4)\n",
      "Requirement already satisfied: filelock in c:\\users\\user\\desktop\\breaking bad series analysis\\venv\\lib\\site-packages (from huggingface_hub[hf_xet]) (3.19.1)\n",
      "Requirement already satisfied: fsspec>=2023.5.0 in c:\\users\\user\\desktop\\breaking bad series analysis\\venv\\lib\\site-packages (from huggingface_hub[hf_xet]) (2025.3.0)\n",
      "Requirement already satisfied: packaging>=20.9 in c:\\users\\user\\desktop\\breaking bad series analysis\\venv\\lib\\site-packages (from huggingface_hub[hf_xet]) (25.0)\n",
      "Requirement already satisfied: pyyaml>=5.1 in c:\\users\\user\\desktop\\breaking bad series analysis\\venv\\lib\\site-packages (from huggingface_hub[hf_xet]) (6.0.2)\n",
      "Requirement already satisfied: requests in c:\\users\\user\\desktop\\breaking bad series analysis\\venv\\lib\\site-packages (from huggingface_hub[hf_xet]) (2.32.4)\n",
      "Requirement already satisfied: tqdm>=4.42.1 in c:\\users\\user\\desktop\\breaking bad series analysis\\venv\\lib\\site-packages (from huggingface_hub[hf_xet]) (4.67.1)\n",
      "Requirement already satisfied: typing-extensions>=3.7.4.3 in c:\\users\\user\\desktop\\breaking bad series analysis\\venv\\lib\\site-packages (from huggingface_hub[hf_xet]) (4.14.1)\n",
      "Requirement already satisfied: hf-xet<2.0.0,>=1.1.2 in c:\\users\\user\\desktop\\breaking bad series analysis\\venv\\lib\\site-packages (from huggingface_hub[hf_xet]) (1.1.8)\n",
      "Requirement already satisfied: colorama in c:\\users\\user\\desktop\\breaking bad series analysis\\venv\\lib\\site-packages (from tqdm>=4.42.1->huggingface_hub[hf_xet]) (0.4.6)\n",
      "Requirement already satisfied: charset_normalizer<4,>=2 in c:\\users\\user\\desktop\\breaking bad series analysis\\venv\\lib\\site-packages (from requests->huggingface_hub[hf_xet]) (3.4.3)\n",
      "Requirement already satisfied: idna<4,>=2.5 in c:\\users\\user\\desktop\\breaking bad series analysis\\venv\\lib\\site-packages (from requests->huggingface_hub[hf_xet]) (3.10)\n",
      "Requirement already satisfied: urllib3<3,>=1.21.1 in c:\\users\\user\\desktop\\breaking bad series analysis\\venv\\lib\\site-packages (from requests->huggingface_hub[hf_xet]) (2.5.0)\n",
      "Requirement already satisfied: certifi>=2017.4.17 in c:\\users\\user\\desktop\\breaking bad series analysis\\venv\\lib\\site-packages (from requests->huggingface_hub[hf_xet]) (2025.8.3)\n",
      "Note: you may need to restart the kernel to use updated packages.\n"
     ]
    }
   ],
   "source": [
    "pip install huggingface_hub[hf_xet]"
   ]
  },
  {
   "cell_type": "code",
   "execution_count": 38,
   "id": "5d53b72b",
   "metadata": {},
   "outputs": [],
   "source": [
    "from transformers import pipeline\n",
    "from nltk import sent_tokenize\n",
    "import nltk\n",
    "import torch\n",
    "from glob import glob\n",
    "import pandas as pd\n",
    "import numpy as np"
   ]
  },
  {
   "cell_type": "code",
   "execution_count": 39,
   "id": "847176bc",
   "metadata": {},
   "outputs": [
    {
     "name": "stderr",
     "output_type": "stream",
     "text": [
      "[nltk_data] Downloading package punkt to\n",
      "[nltk_data]     C:\\Users\\user\\AppData\\Roaming\\nltk_data...\n",
      "[nltk_data]   Package punkt is already up-to-date!\n"
     ]
    },
    {
     "data": {
      "text/plain": [
       "True"
      ]
     },
     "execution_count": 39,
     "metadata": {},
     "output_type": "execute_result"
    }
   ],
   "source": [
    "nltk.download('punkt')"
   ]
  },
  {
   "cell_type": "markdown",
   "id": "5b1c006e",
   "metadata": {},
   "source": [
    "# load the model"
   ]
  },
  {
   "cell_type": "code",
   "execution_count": 40,
   "id": "9038077d",
   "metadata": {},
   "outputs": [],
   "source": [
    "model_name=\"facebook/bart-large-mnli\"\n",
    "device = 0 if torch.cuda.is_available() else 'cpu'"
   ]
  },
  {
   "cell_type": "code",
   "execution_count": 41,
   "id": "14802327",
   "metadata": {},
   "outputs": [
    {
     "data": {
      "text/plain": [
       "'cpu'"
      ]
     },
     "execution_count": 41,
     "metadata": {},
     "output_type": "execute_result"
    }
   ],
   "source": [
    "device"
   ]
  },
  {
   "cell_type": "code",
   "execution_count": 42,
   "id": "68cb3a0c",
   "metadata": {},
   "outputs": [],
   "source": [
    "def load_model(device):\n",
    "    theme_classifier = pipeline(\n",
    "        \"zero-shot-classification\",\n",
    "        model=model_name,\n",
    "        device=device,\n",
    "    )\n",
    "    return theme_classifier"
   ]
  },
  {
   "cell_type": "code",
   "execution_count": 43,
   "id": "4f368f83",
   "metadata": {},
   "outputs": [
    {
     "name": "stderr",
     "output_type": "stream",
     "text": [
      "Device set to use cpu\n"
     ]
    }
   ],
   "source": [
    "theme_classifier = load_model(device)"
   ]
  },
  {
   "cell_type": "code",
   "execution_count": 44,
   "id": "0f159dcc",
   "metadata": {},
   "outputs": [],
   "source": [
    "theme_list = [\"friendship\",\"hope\",\"sacrifice\",\"battle\",\"self development\",\"betrayal\",\"love\",\"dialogue\"]"
   ]
  },
  {
   "cell_type": "code",
   "execution_count": 45,
   "id": "2d59803b",
   "metadata": {},
   "outputs": [
    {
     "data": {
      "text/plain": [
       "{'sequence': 'I gave him a right hook then a left jab',\n",
       " 'labels': ['battle',\n",
       "  'self development',\n",
       "  'hope',\n",
       "  'sacrifice',\n",
       "  'dialogue',\n",
       "  'betrayal',\n",
       "  'love',\n",
       "  'friendship'],\n",
       " 'scores': [0.9121254682540894,\n",
       "  0.4750021696090698,\n",
       "  0.08781802654266357,\n",
       "  0.045000310987234116,\n",
       "  0.020132873207330704,\n",
       "  0.012040517292916775,\n",
       "  0.004292406607419252,\n",
       "  0.00281721749342978]}"
      ]
     },
     "execution_count": 45,
     "metadata": {},
     "output_type": "execute_result"
    }
   ],
   "source": [
    "theme_classifier(\n",
    "    \"I gave him a right hook then a left jab\",\n",
    "    theme_list,\n",
    "    multi_label=True\n",
    ")"
   ]
  },
  {
   "cell_type": "code",
   "execution_count": 46,
   "id": "f66150c0",
   "metadata": {},
   "outputs": [],
   "source": [
    "files = glob('../data/subtitles/*.srt')"
   ]
  },
  {
   "cell_type": "code",
   "execution_count": 47,
   "id": "1897c26c",
   "metadata": {},
   "outputs": [
    {
     "data": {
      "text/plain": [
       "['../data/subtitles\\\\Breaking Bad - 1x01 - Pilot.DVDRip.ORPHEUS.en.srt',\n",
       " \"../data/subtitles\\\\Breaking Bad - 1x02 - Cat's in the Bag....DVDRip.ORPHEUS.en.srt\",\n",
       " \"../data/subtitles\\\\Breaking Bad - 1x03 - ...and the Bag's in the River.DVDRip.ORPHEUS.en.srt\",\n",
       " '../data/subtitles\\\\Breaking Bad - 1x04 - Cancer Man.DVDRip.ORPHEUS.en.srt',\n",
       " '../data/subtitles\\\\Breaking Bad - 1x05 - Gray Matter.DSR.LOL.en.srt']"
      ]
     },
     "execution_count": 47,
     "metadata": {},
     "output_type": "execute_result"
    }
   ],
   "source": [
    "files[:5]"
   ]
  },
  {
   "cell_type": "code",
   "execution_count": 48,
   "id": "cf1350f6",
   "metadata": {},
   "outputs": [
    {
     "name": "stdout",
     "output_type": "stream",
     "text": [
      "Cleaned: Breaking Bad - 1x01 - Pilot.DVDRip.ORPHEUS.en.srt\n",
      "Cleaned: Breaking Bad - 1x02 - Cat's in the Bag....DVDRip.ORPHEUS.en.srt\n",
      "Cleaned: Breaking Bad - 1x03 - ...and the Bag's in the River.DVDRip.ORPHEUS.en.srt\n",
      "Cleaned: Breaking Bad - 1x04 - Cancer Man.DVDRip.ORPHEUS.en.srt\n",
      "Cleaned: Breaking Bad - 1x05 - Gray Matter.DSR.LOL.en.srt\n",
      "Cleaned: Breaking Bad - 1x06 - Crazy Handful of Nothin'.DSR.LOL.en.srt\n",
      "Cleaned: Breaking Bad - 1x07 - A-No-Rough-Stuff-Type-Deal.DSR.LOL.en.srt\n",
      "Cleaned: Breaking Bad - 2x01 - Seven Thirty-Seven.720p HDTV.CTU.en.srt\n",
      "Cleaned: Breaking Bad - 2x02 - Grilled.HDTV.0TV.en.srt\n",
      "Cleaned: Breaking Bad - 2x03 - Bit by a Dead Bee.HDTV.0TV.en.srt\n",
      "Cleaned: Breaking Bad - 2x04 - Down.HDTV.0TV.en.srt\n",
      "Cleaned: Breaking Bad - 2x05 - Breakage.HDTV.FQM.en.srt\n",
      "Cleaned: Breaking Bad - 2x06 - Peekaboo.HDTV.0TV.en.srt\n",
      "Cleaned: Breaking Bad - 2x07 - Negro Y Azul.HDTV.FQM.en.srt\n",
      "Cleaned: Breaking Bad - 2x08 - Better Call Saul.720p HDTV.CTU.en.srt\n",
      "Cleaned: Breaking Bad - 2x09 - 4 Days Out.DVDRip.en.srt\n",
      "Cleaned: Breaking Bad - 2x10 - Over.HDTV.0TV.en.srt\n",
      "Cleaned: Breaking Bad - 2x11 - Mandala.DSR.RRR.en.srt\n",
      "Cleaned: Breaking Bad - 2x12 - Phoenix.HDTV.0TV.en.srt\n",
      "Cleaned: Breaking Bad - 2x13 - ABQ.HDTV.0TV.en.srt\n",
      "Cleaned: Breaking Bad - 3x01 - No Mas.HDTV.LOL.en.srt\n",
      "Cleaned: Breaking Bad - 3x02 - Caballo Sin Nombre.HDTV.en.srt\n",
      "Cleaned: Breaking Bad - 3x03 - I.F.T..FQM.en.srt\n",
      "Cleaned: Breaking Bad - 3x04 - Green Light.DVDRip.aAF.en.srt\n",
      "Cleaned: Breaking Bad - 3x05 - Mas.HDTV.fever.en.srt\n",
      "Cleaned: Breaking Bad - 3x06 - Sunset.HDTV.LOL.en.srt\n",
      "Cleaned: Breaking Bad - 3x07 - One Minute.HDTV.LOL.en.srt\n",
      "Cleaned: Breaking Bad - 3x08 - I See You.HDTV.en.srt\n",
      "Cleaned: Breaking Bad - 3x09 - Kafkaesque.HDTV.FQM.en.srt\n",
      "Cleaned: Breaking Bad - 3x10 - Fly.DVDRip.aAF.en.srt\n",
      "Cleaned: Breaking Bad - 3x11 - Abiquiu.DVDRip.aAF.en.srt\n",
      "Cleaned: Breaking Bad - 3x12 - Half Measures.DVDRip.aAF.en.srt\n",
      "Cleaned: Breaking Bad - 3x13 - Full Measure.720p HDTV.ctu.en.srt\n",
      "Cleaned: Breaking Bad - 4x01 - Box Cutter.720p HDTV.ORENJI.en.srt\n",
      "Cleaned: Breaking Bad - 4x02 - Thirty-Eight Snub.HDTV.PROPER.FQM.en.srt\n",
      "Cleaned: Breaking Bad - 4x03 - Open House.HDTV.FQM.en.srt\n",
      "Cleaned: Breaking Bad - 4x04 - Bullet Points.HDTV.FQM.en.srt\n",
      "Cleaned: Breaking Bad - 4x05 - Shotgun.720p HDTV.TB.en.srt\n",
      "Cleaned: Breaking Bad - 4x06 - Cornered.720p.WEB-DL.TB.en.srt\n",
      "Cleaned: Breaking Bad - 4x07 - Problem Dog.720p HDTV.IMMERSE.en.srt\n",
      "Cleaned: Breaking Bad - 4x08 - Hermanos.720p.WEB-DL.TB.en.srt\n",
      "Cleaned: Breaking Bad - 4x09 - Bug.720p.WEB-DL.en.srt\n",
      "Cleaned: Breaking Bad - 4x10 - Salud.720p HDTV.IMMERSE.en.srt\n",
      "Cleaned: Breaking Bad - 4x11 - Crawl Space.720p.WEB-DL.TB.en.srt\n",
      "Cleaned: Breaking Bad - 4x12 - End Times.Breaking Bad S04E12 720p WEB-DL DD5.1 H.264-TB.en.srt\n",
      "Cleaned: Breaking Bad - 4x13 - Face Off.720p.WEB-DL.en.srt\n",
      "Cleaned: Breaking Bad - 5x01 - Live Free or Die.HDTV.FQM.en.srt\n",
      "Cleaned: Breaking Bad - 5x02 - Madrigal.HDTV.FQM.en.srt\n",
      "Cleaned: Breaking Bad - 5x03 - Hazard Pay.720p HDTV.EVOLVE.en.srt\n",
      "Cleaned: Breaking Bad - 5x04 - Fifty-One.720p HDTV.EVOLVE.en.srt\n",
      "Cleaned: Breaking Bad - 5x05 - Dead Freight.720p HDTV.EVOLVE.en.srt\n",
      "Cleaned: Breaking Bad - 5x06 - Buyout.WEB-DL.en.srt\n",
      "Cleaned: Breaking Bad - 5x07 - Say My Name.HDTV.COMPULSiON.en.srt\n",
      "Cleaned: Breaking Bad - 5x08 - Gliding Over All.HDTV.en.srt\n",
      "Cleaned: Breaking Bad - 5x09 - Blood Money.720p HDTV.IMMERSE.en.srt\n",
      "Cleaned: Breaking Bad - 5x10 - Buried.720p HDTV.immerse.en.srt\n",
      "Cleaned: Breaking Bad - 5x11 - Confessions.HDTV.x264-IMMERSE.en.srt\n",
      "Cleaned: Breaking Bad - 5x12 - Rabid Dog.HDTV.EVOLVE.en.srt\n",
      "Cleaned: Breaking Bad - 5x13 - To'hajiilee.720p HDTV.IMMERSE.en.srt\n",
      "Cleaned: Breaking Bad - 5x14 - Ozymandias.HDTV.IMMERSE.en.srt\n",
      "Cleaned: Breaking Bad - 5x15 - Granite State.720p HDTV.EVOLVE.en.srt\n",
      "Cleaned: Breaking Bad - 5x16 - Felina.HDTV.IMMERSE.en.srt\n"
     ]
    }
   ],
   "source": [
    "import os\n",
    "import re\n",
    "\n",
    "def clean_subtitle_file(input_path, output_path):\n",
    "    with open(input_path, \"r\", encoding=\"utf-8\", errors=\"ignore\") as f:\n",
    "        content = f.read()\n",
    "\n",
    "    # Remove specific unwanted lines\n",
    "    patterns_to_remove = [\n",
    "        r\"<font.*?>www\\.tvsubtitles\\.net<\\/font>\",   # Remove tvsubtitles.net watermark\n",
    "        r\"<i>Previously on.*?<\\/i>\",                 # Remove \"Previously on...\"\n",
    "        r\"Last season on.*\",                         # Remove \"Last season on...\"\n",
    "        r\"Sync by honeybunny.*\",                     # Remove sync credit\n",
    "        r\"www\\.addic7ed\\.com.*\",                     # Remove addic7ed.com watermark\n",
    "        r\"www\\.tvsubtitles\\.net.*\",                  # Remove tvsubtitles.net plain text\n",
    "        r\"^\\d+\\s*$\",                                 # Remove subtitle numbering lines\n",
    "    ]\n",
    "\n",
    "    for pattern in patterns_to_remove:\n",
    "        content = re.sub(pattern, \"\", content, flags=re.IGNORECASE | re.MULTILINE)\n",
    "\n",
    "    # Remove subtitle timing lines like: 00:00:0,500 --> 00:00:2,00\n",
    "    content = re.sub(\n",
    "        r\"\\d{2}:\\d{2}:\\d{1,2},\\d{3}\\s*-->\\s*\\d{2}:\\d{2}:\\d{1,2},\\d{3}.*\",\n",
    "        \"\",\n",
    "        content\n",
    "    )\n",
    "\n",
    "    # Remove extra blank lines\n",
    "    content = re.sub(r\"\\n\\s*\\n\", \"\\n\", content).strip()\n",
    "\n",
    "    # Save cleaned content to new file\n",
    "    with open(output_path, \"w\", encoding=\"utf-8\") as f:\n",
    "        f.write(content)\n",
    "\n",
    "\n",
    "def clean_all_subtitles(input_folder, output_folder):\n",
    "    os.makedirs(output_folder, exist_ok=True)  # Ensure output folder exists\n",
    "    for filename in os.listdir(input_folder):\n",
    "        if filename.endswith(\".srt\"):\n",
    "            input_path = os.path.join(input_folder, filename)\n",
    "            output_path = os.path.join(output_folder, filename)\n",
    "            clean_subtitle_file(input_path, output_path)\n",
    "            print(f\"Cleaned: {filename}\")\n",
    "\n",
    "\n",
    "# Paths\n",
    "input_folder = \"../data/subtitles\"\n",
    "output_folder = \"../data/subtitles-cleaned\"\n",
    "\n",
    "clean_all_subtitles(input_folder, output_folder)\n",
    "\n",
    "\n",
    "\n",
    "\n",
    "\n"
   ]
  },
  {
   "cell_type": "code",
   "execution_count": 49,
   "id": "0ed74828",
   "metadata": {},
   "outputs": [
    {
     "data": {
      "text/plain": [
       "'../data/subtitles\\\\Breaking Bad - 1x01 - Pilot.DVDRip.ORPHEUS.en.srt'"
      ]
     },
     "execution_count": 49,
     "metadata": {},
     "output_type": "execute_result"
    }
   ],
   "source": [
    "files[0]"
   ]
  },
  {
   "cell_type": "code",
   "execution_count": 50,
   "id": "d5ea26d3",
   "metadata": {},
   "outputs": [],
   "source": [
    "\n",
    "episode = int(re.search(r\"x(\\d{2})\", files[0]).group(1))"
   ]
  },
  {
   "cell_type": "code",
   "execution_count": 51,
   "id": "07eebb0c",
   "metadata": {},
   "outputs": [
    {
     "data": {
      "text/plain": [
       "1"
      ]
     },
     "execution_count": 51,
     "metadata": {},
     "output_type": "execute_result"
    }
   ],
   "source": [
    "episode"
   ]
  },
  {
   "cell_type": "code",
   "execution_count": 52,
   "id": "02129266",
   "metadata": {},
   "outputs": [
    {
     "name": "stdout",
     "output_type": "stream",
     "text": [
      "   season  episode                                             script\n",
      "0       1        1  Oh, my god. Christ! Shit. Oh, God. Oh, my God....\n",
      "1       1        2  Are you okay? - You are a lifesaver. - Yeah, m...\n",
      "2       1        3  <i>Let's break it down. </i> Hydrogen. What do...\n",
      "3       1        4  Operation Icebreaker. - How we liking that? - ...\n",
      "4       1        5  Here's my rsum. I mean, technically it says \"c...\n"
     ]
    }
   ],
   "source": [
    "import os\n",
    "import re\n",
    "import pandas as pd\n",
    "\n",
    "path = \"../data/subtitles-cleaned\"\n",
    "\n",
    "data = []\n",
    "\n",
    "for filename in os.listdir(path):\n",
    "    if filename.endswith(\".srt\"):\n",
    "        # Capture season and episode like 1x01, 2x03, etc.\n",
    "        match = re.search(r\"(\\d+)x(\\d{2})\", filename)\n",
    "        if match:\n",
    "            season = int(match.group(1))\n",
    "            episode = int(match.group(2))\n",
    "\n",
    "            with open(os.path.join(path, filename), \"r\", encoding=\"utf-8\") as f:\n",
    "                script = \" \".join(line.strip() for line in f if line.strip())\n",
    "\n",
    "            data.append({\"season\": season, \"episode\": episode, \"script\": script})\n",
    "\n",
    "df = pd.DataFrame(data, columns=[\"season\", \"episode\", \"script\"])\n",
    "\n",
    "# Sort properly: first by season, then by episode\n",
    "df = df.sort_values(by=[\"season\", \"episode\"]).reset_index(drop=True)\n",
    "\n",
    "print(df.head())\n",
    "\n"
   ]
  },
  {
   "cell_type": "code",
   "execution_count": 53,
   "id": "c495fce6",
   "metadata": {},
   "outputs": [
    {
     "data": {
      "text/html": [
       "<div>\n",
       "<style scoped>\n",
       "    .dataframe tbody tr th:only-of-type {\n",
       "        vertical-align: middle;\n",
       "    }\n",
       "\n",
       "    .dataframe tbody tr th {\n",
       "        vertical-align: top;\n",
       "    }\n",
       "\n",
       "    .dataframe thead th {\n",
       "        text-align: right;\n",
       "    }\n",
       "</style>\n",
       "<table border=\"1\" class=\"dataframe\">\n",
       "  <thead>\n",
       "    <tr style=\"text-align: right;\">\n",
       "      <th></th>\n",
       "      <th>season</th>\n",
       "      <th>episode</th>\n",
       "      <th>script</th>\n",
       "    </tr>\n",
       "  </thead>\n",
       "  <tbody>\n",
       "    <tr>\n",
       "      <th>0</th>\n",
       "      <td>1</td>\n",
       "      <td>1</td>\n",
       "      <td>Oh, my god. Christ! Shit. Oh, God. Oh, my God....</td>\n",
       "    </tr>\n",
       "    <tr>\n",
       "      <th>1</th>\n",
       "      <td>1</td>\n",
       "      <td>2</td>\n",
       "      <td>Are you okay? - You are a lifesaver. - Yeah, m...</td>\n",
       "    </tr>\n",
       "    <tr>\n",
       "      <th>2</th>\n",
       "      <td>1</td>\n",
       "      <td>3</td>\n",
       "      <td>&lt;i&gt;Let's break it down. &lt;/i&gt; Hydrogen. What do...</td>\n",
       "    </tr>\n",
       "    <tr>\n",
       "      <th>3</th>\n",
       "      <td>1</td>\n",
       "      <td>4</td>\n",
       "      <td>Operation Icebreaker. - How we liking that? - ...</td>\n",
       "    </tr>\n",
       "    <tr>\n",
       "      <th>4</th>\n",
       "      <td>1</td>\n",
       "      <td>5</td>\n",
       "      <td>Here's my rsum. I mean, technically it says \"c...</td>\n",
       "    </tr>\n",
       "    <tr>\n",
       "      <th>5</th>\n",
       "      <td>1</td>\n",
       "      <td>6</td>\n",
       "      <td>Let's get something straight. This, the chemis...</td>\n",
       "    </tr>\n",
       "    <tr>\n",
       "      <th>6</th>\n",
       "      <td>1</td>\n",
       "      <td>7</td>\n",
       "      <td>In closing, I can tell you we take this very s...</td>\n",
       "    </tr>\n",
       "    <tr>\n",
       "      <th>7</th>\n",
       "      <td>2</td>\n",
       "      <td>1</td>\n",
       "      <td>&lt;i&gt; Chemistry is the study of change. You unde...</td>\n",
       "    </tr>\n",
       "    <tr>\n",
       "      <th>8</th>\n",
       "      <td>2</td>\n",
       "      <td>2</td>\n",
       "      <td>Synch: Tyno, Michvanilly www.forom.com www.sub...</td>\n",
       "    </tr>\n",
       "    <tr>\n",
       "      <th>9</th>\n",
       "      <td>2</td>\n",
       "      <td>3</td>\n",
       "      <td>It's a bold plan, Mr. White. You sure this is ...</td>\n",
       "    </tr>\n",
       "  </tbody>\n",
       "</table>\n",
       "</div>"
      ],
      "text/plain": [
       "   season  episode                                             script\n",
       "0       1        1  Oh, my god. Christ! Shit. Oh, God. Oh, my God....\n",
       "1       1        2  Are you okay? - You are a lifesaver. - Yeah, m...\n",
       "2       1        3  <i>Let's break it down. </i> Hydrogen. What do...\n",
       "3       1        4  Operation Icebreaker. - How we liking that? - ...\n",
       "4       1        5  Here's my rsum. I mean, technically it says \"c...\n",
       "5       1        6  Let's get something straight. This, the chemis...\n",
       "6       1        7  In closing, I can tell you we take this very s...\n",
       "7       2        1  <i> Chemistry is the study of change. You unde...\n",
       "8       2        2  Synch: Tyno, Michvanilly www.forom.com www.sub...\n",
       "9       2        3  It's a bold plan, Mr. White. You sure this is ..."
      ]
     },
     "execution_count": 53,
     "metadata": {},
     "output_type": "execute_result"
    }
   ],
   "source": [
    "df.head(10)"
   ]
  },
  {
   "cell_type": "markdown",
   "id": "4a852180",
   "metadata": {},
   "source": [
    "## run the model"
   ]
  },
  {
   "cell_type": "code",
   "execution_count": 54,
   "id": "01c8b0e0",
   "metadata": {},
   "outputs": [],
   "source": [
    "script=df.iloc[0]['script']"
   ]
  },
  {
   "cell_type": "code",
   "execution_count": 55,
   "id": "30581f01",
   "metadata": {},
   "outputs": [
    {
     "data": {
      "text/plain": [
       "'Oh, my god. Christ! Shit. Oh, God. Oh, my God. Oh, my God. Oh, my God. Think, think, think. Oh, my gosh. Okay. Come on, come on, come on. Come on. My name is Walter Hartwell White. I live at 308 Negra Arroyo Lane, Albuquerque, New Mexico, 87104. To all law-enforcement entities, this is not an admission of guilt. I am speaking to my family now. Skyler. You are the love of my life. I hope you know that. Walter Jr. You\\'re my big man. There are... There are going to be some things... Things that you\\'ll come to learn about me... ...in the next few days. I just want you to know that no matter how it may look... ...I only had you in my heart. Goodbye. <i>Money before the panel earlier this year. </i> Happy birthday. Look at that. That is veggie bacon. Believe it or not. Zero cholesterol... ...and you won\\'t even taste the difference. What time do you think you\\'ll be home? Same time. I don\\'t want him dicking you around tonight. You get paid till 5, you work till 5. No later. Hey. - Hey, happy birthday. - Well, thank you. You\\'re late again. There was no hot water again. I have an easy fix for that. You wake up early, and then you get to be the first person in the shower. I have an idea. How about buy a new hot-water heater? How\\'s that idea? For the million-billionth time. - Did you take your echinacea? - Yeah. I think it\\'s getting better. What the hell is this? - Hey. - It\\'s veggie bacon. We\\'re watching our cholesterol, I guess. Not me. I want real bacon. Not this fake crap. Too bad. Eat it. - This smells like Band-Aids. - Eat it. - So how does it feel to be old? - How does it feel to be a smart-ass? Good. Eat your veggie bacon. - You\\'re all set? - Yeah, I\\'m fine. - All right, see you at home. - Okay, see you. Chemistry. It is the study of what? Anyone? Ben. - Chemicals. - Chemicals. No. Chemistry is... Well, technically, chemistry is the study of matter. But I prefer to see it as the study of change. Now, just... Just think about this. Electrons. They... ...change their energy levels. Molecules. Molecules change their bonds. Elements. They combine and change into compounds. Well, that\\'s... That\\'s all of life, right? I mean, it\\'s just... It\\'s the constant, it\\'s the cycle. It\\'s solution, dissolution, just over and over and over. It is growth, then decay, then transformation. It is fascinating, really. Chad. Is there something wrong with your table? Okay, ionic bonds. Are you done? Lonic bonds. Chapter six. One, two, three makes 10, and 10 makes 20. There\\'s your receipt. Just hand this disc to your car-wash professional. Thank you. Come again. He\\'s not coming. He says he quits. I\\'m gonna run the register. Bogdan, no. We talked about this. I\\'m short-handed, Walter. What am I to do? Walter? What am I to do? Hey, Mr. White. - Make those tyres shine, huh? - Oh, my God. You will not believe who\\'s cleaning Chad\\'s car. Mr. White. From chemistry. Surprise! Happy birthday, Dad. - Happy birthday. - Happy birthday. - Oh, you\\'re so very late. - Happy birthday. Really, I\\'m serious, Skyler. I mean, you\\'re flat as a washboard. You look awesome. - She\\'s not showing at all, is she? - She\\'s showing a little. Carmen, this is my sister, Marie. - Nice to meet you. - Hi. Glock 22, that\\'s my daily carry, okay? I mean, unless you\\'re talking, what, Plus P Plus loads... ...you can forget the 9 mil. Shit, I seen one of those bounce off a windshield one time. - Yeah, with you shooting. - Hey. If you\\'re gonna bring a gun, baby, you gotta bring enough gun. Forty calibre. - This is awesome. - Nice, isn\\'t it? - Yeah. Dad, come check this out. - Yeah, I see it. - Come on, take it. - Yeah. Check it out, Walt. - No, no, it\\'s just heavy. - That\\'s why they hire men. Hey, it\\'s not gonna bite you. Looks like Keith Richards with a glass of warm milk, doesn\\'t he? Hey, Walt. Everybody, listen up, listen up, listen up. I\\'m gonna give a toast, a little toast to my brother-in-law. Come here. Walt, you got a brain the size of Wisconsin... ...but we\\'re not gonna hold that against you. But your heart\\'s in the right place. Your heart\\'s in the right place. We love you, man. Everybody, to Walt. Oh, shit. Turn on channel three. <i>At which point we apprehended three</i> <i>individuals and placed them in custody. </i> <i>I\\'m proud to say</i> <i>the outstanding professionalism...</i> <i>...of my fellow agents</i> <i>at the Albuquerque District Office...</i> <i>...resulted in a substantial amount</i> <i>of methamphetamine...</i> <i>...being taken off the streets. </i> <i>- Were any shots fired?</i> <i>- No, ma\\'am. </i> <i>Our agents took the suspects</i> <i>by surprise.</i> - Damn. The TV does add 10 pounds. - Ten pounds? Hey, sit and spin, both of you. - Hank. - What? Sorry. You didn\\'t see that. So charming. <i>Clearly an ongoing operation. </i> <i>One which was well-organised...</i> - Hank, how much money is that? - It\\'s about 700 grand. It was a pretty good haul. <i>As I say, it\\'s a good day</i> <i>for the citizens of Albuquerque...</i> <i>...when we can put this big a dent</i> <i>in the local drug trade.</i> Well, that\\'s unusual, isn\\'t it? That kind of cash? Well, it\\'s not the most we ever took. It\\'s easy money, till we catch you. Walt, just say the word and I\\'ll take you on a ride-along. You can watch us knock down a meth lab, huh? Get a little excitement in your life. Yeah, someday. Which one\\'s this? That faux-Lalique vase I picked up at the Super-Swap. How\\'s it doing? Well, I met my reserve and there\\'s still two minutes. What\\'s up? You tell me, birthday boy. Oh, hey, so, what\\'s up for Saturday? Car wash. Bogdan says he needs me. - Till what time? Noon, 1-ish? - Probably 2, more like it. And then what after that? Actually... ...I was thinking of driving up to Los Alamos. They\\'ve got this... The visitor centre has an exhibit on that\\'s really supposed to be... - You\\'re not gonna paint? - No, I\\'ll paint. It\\'s just that this... You know, this exhibition on the Mars-rover photographs are... I mean, the detail really is just supposed to be amazing. It\\'s just that I really need you to paint at some point. The sooner that back bedroom gets finished... I know. And I\\'d do it myself, except you don\\'t want me on the stepladder. - I will paint. - Okay. - What is going on down there? - No, it\\'s... Is he asleep? No, it\\'s nothing. He\\'s just... You know. Well, you gotta be careful about the baby and... Well, don\\'t worry about the baby. This is just for you. We are just doing you tonight. So just close your eyes... ...relax, and let it... - Close your eyes. - Oh, okay. Okay. There you go. That\\'s it. That\\'s it. There you go. Keep it going. Keep it going. Keep it going. Keep... Yes! Fifty-six. This is so embarrassing. I am fine, honestly. It\\'s just some bug going around. First, my wife had it, then my son, and now me. It\\'s just... It\\'s just like a chest cold. Could be some low blood sugar as well. I didn\\'t have the greatest breakfast this morning. Honestly, I didn\\'t. Hey, listen, can you do me a favour? Can you just... ...drop me off at a corner somewhere? No, sorry. It\\'s just that I don\\'t have the greatest insurance. Take a couple of deep breaths for me. Is there anybody you want us to contact for you? No. God, no. Lean forward for me, would you? - Mr. White, are you a smoker? - No, never. Why do you ask? Mr. White? Mr. White? Yes? You understood what I\\'ve just said to you? Yes. Lung cancer. Inoperable. I\\'m sorry. I just need to make sure you fully understand. Best-case scenario, with chemo, I\\'ll live maybe another couple years. It\\'s just... ...you\\'ve got mustard on your... Right there. You got mustard there. Right there. So my records show that I paid it... ...and I certainly don\\'t feel that we owe any late... Yeah, all right. Well, I\\'ll check with the bank and maybe the post office... ...if they lost it or something. All right, then. Yeah, let me look into that. Okay. Thank you. Hey. Hey. Did you use the MasterCard last month? Fifteen eighty-eight at Staples? We needed printer paper. Walt, the MasterCard\\'s the one we don\\'t use. Okay. So how was your day? Oh, you know. I don\\'t know. It was... ...fine. Hey, Walter. Walter. Walter. I\\'m shorthanded. I need you outside to do wipe downs. - Come on. - What? I said I need you to do some wipe downs. Are you here to work, or to stare at the skies? Come on. Let\\'s go. Come on, man. Fuck you, Bogdan. - What? - I said, \"fuck you. \" And your eyebrows. Wipe down this. Hank? Hank, it\\'s Walt. Hey. Oh, listen. I didn\\'t wake you, did I? Oh, good, good. Oh, no, no. Nothing\\'s wrong. I just... I\\'ve been thinking about that offer of that ride-along. It\\'s the last house on the right. See it? Not the two-storey one, the one next to it. Kind of, I don\\'t know what do you call that? - Green? - Sage. \"Sage?\" Do you work at the fucking Pottery Barn? Jesus. Sage. That\\'s the word for it. My fault the only word your dumb-ass knows is \"green\"? \"Cheese-dick. \" I know that one. How about that? Anyway, it\\'s the sage one. See it? So, what tells you it\\'s a meth lab? Just our snitch. Says some dude who goes by \"Cap\\'n Cook\"... ...lives up to his name in there. Says he always adds a dash of chilli powder. You exuberant Mexicans. \"Cap\\'n Cook?\" That\\'s a white boy\\'s name. Dopey as hell too. Yeah? I\\'ll tell you what. I got you 20 bucks that says he\\'s a beaner. - All right. - You\\'re on. All right. Come on, come on, come on. All right. School bus is clear. You got the green light. <i>Copy that. </i> Watch this. Makes them shit. Go, go, go, go! Meth labs are nasty on a good day. You mix that shit wrong and you got mustard gas. Phosphine gas. - I think. - Yeah, exactly. One whiff will kill you. That\\'s why the respirators. <i>House is clear. </i> <i>One suspect in custody. </i> Copy that. The suspect... ...might he be of the Latino persuasion? <i>Driver\\'s licence says</i> <i>\"Emilio Koyama. \"</i> - Asian. Pay up, sucker. - Hey, hey. First name, Emilio. That\\'s at least half a beaner. Tell you what, I\\'ll let you off for a 10. Cheer up, Gomey. - You people still got J. Lo. - Hank. Do you think I might get to go inside? See the actual lab? Yeah. Yeah, I\\'ll tell you what, we\\'re gonna go peek our heads in... ...check it out first. Stay here a minute. Let\\'s go, Frank. Oh, God. Oh, God. Oh, my God. Pinkman? <i>Cap\\'n. </i> Hey. It\\'s me. I\\'m alone. - How\\'d you find me? - You\\'re still in our filing system. So your aunt owns this place, right? I own it. Look, no one\\'s looking for you. Why are you here? I was curious. Honestly, I never expected you to amount to much... ...but methamphetamine. I didn\\'t picture that. - There\\'s a lot of money in it, huh? - Don\\'t know what you\\'re talking about. - No? - Not a clue. Cap\\'n Cook? That\\'s not you? Like I said, no one is looking for you. Look, I don\\'t know what you think you\\'re doing here, Mr. White. I mean, if you\\'re planning on giving me some... ...bull-winder about getting right with Jesus or turning myself in. - Not really. - High school was a long time ago. You ain\\'t <i>Welcome back, Kotter,</i> so step off. No speeches. Short speech. You lost your partner today. What\\'s-his-name. Emilio? Emilio is going to prison. The DEA took all your money, your lab. You\\'ve got nothing. Square one. But you know the business... ...and I know the chemistry. I\\'m thinking... ...maybe you and I could partner up. You wanna cook crystal meth? You. You and me. That\\'s right. Either that, or I turn you in. - What the hell is this? - Damned if I know. I described it as mosaic folk art. - And somebody bought it? - Yeah, some guy in Minneapolis. Fourteen dollars plus shipping. Yes. At this rate, in 50 or 60 years you\\'ll be rich. - So how goes the novel? - It\\'s not a novel, actually, which I... You\\'re not writing a novel? - You told me you were. - No. Short stories. I said that if eventually I have enough good ones... ...that maybe I\\'ll try... ...and publish another collection. Those really didn\\'t sell. I just thought a novel would be easier to sell. Yeah, well, maybe so. Ever want me to read anything, I could critique it for you. No. I mean, I\\'m just not at that stage where I... - No. - Open offer. - So, what\\'s up with Walt lately? - What do you mean? He\\'s fine. He just seems... ...I don\\'t know. Quieter than usual. Turning 50 is a big deal. I mean, I\\'m sure as hell not looking forward to 40. You\\'re gonna be a basket-case. - So it\\'s a mid-life crisis. - No. He\\'s just quiet. - How\\'s the sex? - Marie, Jesus. I guess that answers that. You just gonna sit there? Look at this. Look at this. Kjeldahl-style recovery flask, 800 millilitres. Very rare. You got your usual paraphernalia, Griffin beakers... ...there\\'s your Erlenmeyer flask. But the <i>pi�ce de r�sistance...</i> ...a round bottom boiling flask, 5000 millilitres. I cook in one of those. A big one. One of these? No, this is an volumetric flask. You wouldn\\'t cook in one of these. - Yeah. I do. - No, you don\\'t. A volumetric flask is for general mixing and titration. You wouldn\\'t apply heat to a volumetric flask. That\\'s what a boiling flask is for. Did you not learn nothing from my chemistry class? No. You flunked me, remember? - No wonder. - Prick. And let me tell you something else. This ain\\'t chemistry. Okay, this is art. Cooking is art... ...and shit I cook is the bomb, so don\\'t be telling me. Shit you cook is shit. I saw your setup. Ridiculous. You and I will not make garbage. We will produce a chemically pure and stable product... ...that performs as advertised. No adulterants. - No baby formula. No chilli powder. - No, no. Chilli P\\'s my signature. Not anymore. Yeah, well, we\\'ll see about that. - What the hell is this? - Lab safety equipment. We\\'re also gonna have an emergency eye wash station. These chemicals and their fumes are toxic. In case you didn\\'t you know that. Well, you can dress up like a faggot if you want. Not me. Listen, this stuff doesn\\'t stay more than a day. - I thought we were gonna cook here. - No, we\\'re not gonna cook here. Okay, this is my house. I don\\'t shit where I eat. - Well, then where are we gonna work? - You tell me. This is your deal. You wanna smoke it up, smoke it up at your house. No, I didn\\'t think so. Oh, well. Well... ...what if we rented one of those self-storage places? You know, those little orange garages? Worked out of there? No, they\\'re onto that. They\\'ve got dogs that sniff around. RV, that\\'s what you want. What, like a Winnebago? Yeah. I know a dude who wants to sell his. He just goes camping with it. But a mobile meth lab? That\\'d be the bomb. I mean, you can drive way out in the boonies. Be all evasive. Dude, this isn\\'t even seven grand, all right? My guy wants 85. This is all the money I have in the world. You\\'re a drug dealer. Negotiate. You are not how I remember you from class. - I mean, like, not at all. - Yeah, well, I gotta go. Wait. Wait. Hold up. Tell me why you\\'re doing this. Seriously. - Why do you do it? - Money, mainly. - There you go. - No, come on, man. Some straight like you, giant stick up his ass... ...all a sudden at age, what, 60, he\\'s just gonna break bad? - I\\'m 50. - It\\'s weird, is all. Okay, it doesn\\'t compute. Listen... ...if you\\'ve gone crazy or something... ...I mean, if you\\'ve gone crazy, or depressed. I\\'m just saying. That\\'s something I need to know about. Okay, I mean, that affects me. I am awake. What? Buy the RV. We start tomorrow. How\\'s it coming in there? Fine. Do you want me or your dad? Dad. So how are those feeling in the waist? Are they too tight? You don\\'t want to get them if they\\'re too tight. They\\'re... They\\'re pretty shrunk. Are you sure you don\\'t want the... Like a different kind? Like, you know, the skinny jeans... ...because those are in style. The skaters where them. - Do I look like a skater? - All right. Mom, get them, my big boy pants. Mommy, could you zip up my big boy pants. - Don\\'t. - What? - Don\\'t. - Walt. I have no idea. No, you know what? Don\\'t even look at them. - They\\'re obviously very stupid. - Yep. Yeah. I think that... I think those jeans look really good on you. I think you should get them if you like them, okay? Why don\\'t you hang out here for a second. I\\'ll be right back. Fine. Hey, Mommy, I think I pinched a loaf in my brand new big boy pants. - What are you doing? - What\\'s wrong? Having trouble walking? Get off me! Get off me! I\\'ll mess you up, man. You\\'ll have one shot. You\\'d better make it good. You waiting for, your girlfriends? Better go. You\\'d better go. Take it. Take your shot. Take it! Come on. - Come on. - Come on, let\\'s get out of here. Let\\'s go. Psycho. Yeah, nothing but cows. Got some big cow house way out that way, like two miles... ...but I don\\'t see nobody. - \"Cow house\"? - Yeah. Where they live. The cows. Whatever, man. Shit, yeah. Let\\'s cook here. Cow house. God help me. - What are you doing? - These are my good clothes. You can\\'t go home smelling like a meth lab. Yeah, you can. I do. Those? Wow. Those... You\\'re keeping those on right? Come on. Daylight\\'s burning. Oh, my God. Wow, this is a good look for you. I mean, you\\'re maybe only the world\\'s second-biggest homo. Would you shut up and help me? Oh, yeah. Oh, yeah. - Work it. Baby, work it. - Turn that off. This is glass-grade. You got... Jesus, you got crystals in here two inches, three inches long. This is pure glass. You\\'re a goddamn artist. This is art, Mr. White. Well, actually, it\\'s just basic chemistry... ...but thank you, Jesse. I\\'m glad it\\'s acceptable. Acceptable? You\\'re the goddamn Iron Chef. Every jibhead from here to Timbuktu\\'s gonna want a taste. - Man, I gotta try this. - No. No. No. We only sell it. We don\\'t use it. Okay, since when? Listen, you\\'ve been watching way too much <i>Miami Vice</i>. That ain\\'t happening. So, what now? How do we proceed? We cook more tomorrow. Meantime... ...I know just the guy to talk to. Get him. Come on. Hey, yo. Kraze, how you doing, my man? Hey, you got a new dog. Right on, man. What\\'s his name? Yeah, I had a dog like that once, except maybe like twice as big. Super-purebred. Now, me personally, I would train him to go straight for the nutsack. Just shut your mouth and show me your money. I ain\\'t buying, <i>ese</i>. I\\'m selling. Tell me that ain\\'t the finest scante you ever laid eyes on. Go ahead. Try it. Hey, poochie. How you doing? Jesus Christ. Yeah. Booya! See, what\\'d I say? - It\\'s all right. - It\\'s all right? It\\'s all right? Yeah, it\\'s all right. - So what? You\\'re back in business? - Hell, yeah, I\\'m back. With a vengeance. <i>Vato loco</i> gotta make a living. You know, with your cousin gone away and all... And listen, homes, about that... Really broke me up about Emilio. That dude is like my brother. - You okay? You talk to him? - Yeah, I talk to him. Said when the feds came, you were out sticking it in some neighbour lady. - Hey, you know, I got lucky twice. - I don\\'t know, man. Emilio... ...he thinks maybe you dimed on him. Whoa, whoa, hey, hey. That is bullshit. That is bullshit, Krazy, eh? I should kick his punk ass for even thinking that. You know what? Next time you talk to Emilio... ...you tell him for me, all right? Why don\\'t you tell him yourself? Made bail this morning. Go ahead, <i>pendejo</i>. Kick my ass. Hey, listen... Where did you get this? Because I know your little punk ass didn\\'t cook it. Damn, man. What are you, some kind of nudist? Yeah, that\\'s some stone-fine tick-tick you been cooking there, <i>ese</i>. How about you come work for me? I\\'d be willing to sell it to you... ...if the price is right. Out here all by yourself, huh? Hey, I know you. He was there when I got busted. - He\\'s with the DEA. - No. You <i>rata</i> snitch motherfucker. Run, Mr. White! Run! I say we cap them both. You really cook up that batch? - Yeah. - You an artist. - It\\'s a damn shame. - Wait. Wait a minute. Listen to me. I\\'ll teach you my recipe, huh? What do you say? You wanna cook like me? You let us both live... ...and I will teach you, huh? Put the cigarette out. Please... Move it, homes. You got all day? Okay. Shit! What happened? Hey, what\\'d you do to them? Red phosphorus in the presence of moisture and accelerated by heat... ...yields phosphorus hydride. Phosphine gas. One good whiff and... We gotta... We gotta clean this up. Where were you? Walt... I don\\'t know what\\'s been going on with you lately... ...but... - Nothing, honey. I\\'m fine. Whatever it is, I\\'ll tell you this. I do not like it when you don\\'t talk to me. The worst thing you can do is shut me out. Walt... Oh, Walt, is that you? 00:00:0,500 --> 00:00:2,00'"
      ]
     },
     "execution_count": 55,
     "metadata": {},
     "output_type": "execute_result"
    }
   ],
   "source": [
    "script"
   ]
  },
  {
   "cell_type": "code",
   "execution_count": 59,
   "id": "0cae335b",
   "metadata": {},
   "outputs": [
    {
     "name": "stderr",
     "output_type": "stream",
     "text": [
      "[nltk_data] Downloading package punkt to C:\\nltk_data...\n",
      "[nltk_data]   Package punkt is already up-to-date!\n"
     ]
    },
    {
     "data": {
      "text/plain": [
       "True"
      ]
     },
     "execution_count": 59,
     "metadata": {},
     "output_type": "execute_result"
    }
   ],
   "source": [
    "import nltk\n",
    "\n",
    "# Download to a known directory\n",
    "nltk.download('punkt', download_dir=r'C:\\nltk_data')\n"
   ]
  },
  {
   "cell_type": "code",
   "execution_count": 60,
   "id": "f7a7bc8c",
   "metadata": {},
   "outputs": [],
   "source": [
    "import nltk\n",
    "nltk.data.path.append(r'C:\\nltk_data')  # Add the folder to NLTK’s search path\n"
   ]
  },
  {
   "cell_type": "code",
   "execution_count": 61,
   "id": "1c8c5adc",
   "metadata": {},
   "outputs": [
    {
     "data": {
      "text/plain": [
       "FileSystemPathPointer('C:\\\\Users\\\\user\\\\AppData\\\\Roaming\\\\nltk_data\\\\tokenizers\\\\punkt')"
      ]
     },
     "execution_count": 61,
     "metadata": {},
     "output_type": "execute_result"
    }
   ],
   "source": [
    "from nltk.data import find\n",
    "find('tokenizers/punkt')  # Should print the path instead of throwing an error\n"
   ]
  },
  {
   "cell_type": "code",
   "execution_count": 65,
   "id": "9a1f5a8f",
   "metadata": {},
   "outputs": [
    {
     "name": "stdout",
     "output_type": "stream",
     "text": [
      "C:\\Users\\user\\AppData\\Roaming\\nltk_data\\tokenizers\\punkt\n"
     ]
    },
    {
     "name": "stderr",
     "output_type": "stream",
     "text": [
      "[nltk_data] Downloading package punkt_tab to\n",
      "[nltk_data]     C:\\Users\\user\\AppData\\Roaming\\nltk_data...\n",
      "[nltk_data]   Package punkt_tab is already up-to-date!\n"
     ]
    }
   ],
   "source": [
    "import nltk\n",
    "\n",
    "# Add the exact path where punkt was downloaded\n",
    "nltk.data.path.append(r'C:\\Users\\user\\AppData\\Roaming\\nltk_data')\n",
    "\n",
    "# Download missing punkt_tab resource\n",
    "nltk.download('punkt_tab', download_dir=r'C:\\Users\\user\\AppData\\Roaming\\nltk_data')\n",
    "\n",
    "# Optional: verify NLTK can find punkt\n",
    "from nltk.data import find\n",
    "print(find('tokenizers/punkt'))\n",
    "\n",
    "\n"
   ]
  },
  {
   "cell_type": "code",
   "execution_count": 68,
   "id": "2095fc45",
   "metadata": {},
   "outputs": [
    {
     "name": "stdout",
     "output_type": "stream",
     "text": [
      "['Oh, my god.', 'Christ!', 'Shit.', 'Oh, God.', 'Oh, my God.', 'Oh, my God.', 'Oh, my God.', 'Think, think, think.', 'Oh, my gosh.', 'Okay.', 'Come on, come on, come on.', 'Come on.', 'My name is Walter Hartwell White.', 'I live at 308 Negra Arroyo Lane, Albuquerque, New Mexico, 87104.', 'To all law-enforcement entities, this is not an admission of guilt.', 'I am speaking to my family now.', 'Skyler.', 'You are the love of my life.', 'I hope you know that.', \"Walter Jr. You're my big man.\", 'There are...', 'There are going to be some things...', \"Things that you'll come to learn about me... ...in the next few days.\", 'I just want you to know that no matter how it may look...', '...I only had you in my heart.', 'Goodbye.', '<i>Money before the panel earlier this year.', '</i> Happy birthday.', 'Look at that.', 'That is veggie bacon.', 'Believe it or not.', \"Zero cholesterol... ...and you won't even taste the difference.\", \"What time do you think you'll be home?\", 'Same time.', \"I don't want him dicking you around tonight.\", 'You get paid till 5, you work till 5.', 'No later.', 'Hey.', '- Hey, happy birthday.', '- Well, thank you.', \"You're late again.\", 'There was no hot water again.', 'I have an easy fix for that.', 'You wake up early, and then you get to be the first person in the shower.', 'I have an idea.', 'How about buy a new hot-water heater?', \"How's that idea?\", 'For the million-billionth time.', '- Did you take your echinacea?', '- Yeah.']\n"
     ]
    }
   ],
   "source": [
    "# Now you can safely tokenize\n",
    "from nltk.tokenize import sent_tokenize\n",
    "\n",
    "script_sentences = sent_tokenize(script)\n",
    "print(script_sentences[:50])"
   ]
  },
  {
   "cell_type": "code",
   "execution_count": 69,
   "id": "58841ea6",
   "metadata": {},
   "outputs": [],
   "source": [
    "#batch sentence\n",
    "sentence_batch_size=20\n",
    "script_batches = []\n",
    "for index in range(0,len(script_sentences),sentence_batch_size):\n",
    "    sent = \" \".join(script_sentences[index:index+sentence_batch_size])\n",
    "    script_batches.append(sent)\n",
    "    "
   ]
  },
  {
   "cell_type": "code",
   "execution_count": 70,
   "id": "25090517",
   "metadata": {},
   "outputs": [
    {
     "data": {
      "text/plain": [
       "[\"Oh, my god. Christ! Shit. Oh, God. Oh, my God. Oh, my God. Oh, my God. Think, think, think. Oh, my gosh. Okay. Come on, come on, come on. Come on. My name is Walter Hartwell White. I live at 308 Negra Arroyo Lane, Albuquerque, New Mexico, 87104. To all law-enforcement entities, this is not an admission of guilt. I am speaking to my family now. Skyler. You are the love of my life. I hope you know that. Walter Jr. You're my big man.\",\n",
       " \"There are... There are going to be some things... Things that you'll come to learn about me... ...in the next few days. I just want you to know that no matter how it may look... ...I only had you in my heart. Goodbye. <i>Money before the panel earlier this year. </i> Happy birthday. Look at that. That is veggie bacon. Believe it or not. Zero cholesterol... ...and you won't even taste the difference. What time do you think you'll be home? Same time. I don't want him dicking you around tonight. You get paid till 5, you work till 5. No later. Hey. - Hey, happy birthday. - Well, thank you.\"]"
      ]
     },
     "execution_count": 70,
     "metadata": {},
     "output_type": "execute_result"
    }
   ],
   "source": [
    "script_batches[:2]"
   ]
  },
  {
   "cell_type": "code",
   "execution_count": 71,
   "id": "590ce462",
   "metadata": {},
   "outputs": [],
   "source": [
    "theme_output = theme_classifier(\n",
    "    script_batches[:2],\n",
    "    theme_list,\n",
    "    multi_label=True\n",
    ")"
   ]
  },
  {
   "cell_type": "code",
   "execution_count": 72,
   "id": "3a6bf01b",
   "metadata": {},
   "outputs": [
    {
     "data": {
      "text/plain": [
       "[{'sequence': \"Oh, my god. Christ! Shit. Oh, God. Oh, my God. Oh, my God. Oh, my God. Think, think, think. Oh, my gosh. Okay. Come on, come on, come on. Come on. My name is Walter Hartwell White. I live at 308 Negra Arroyo Lane, Albuquerque, New Mexico, 87104. To all law-enforcement entities, this is not an admission of guilt. I am speaking to my family now. Skyler. You are the love of my life. I hope you know that. Walter Jr. You're my big man.\",\n",
       "  'labels': ['love',\n",
       "   'dialogue',\n",
       "   'self development',\n",
       "   'friendship',\n",
       "   'hope',\n",
       "   'sacrifice',\n",
       "   'battle',\n",
       "   'betrayal'],\n",
       "  'scores': [0.9365633726119995,\n",
       "   0.6835274696350098,\n",
       "   0.6001949310302734,\n",
       "   0.5634819865226746,\n",
       "   0.5497030019760132,\n",
       "   0.4417339265346527,\n",
       "   0.34580981731414795,\n",
       "   0.16317866742610931]},\n",
       " {'sequence': \"There are... There are going to be some things... Things that you'll come to learn about me... ...in the next few days. I just want you to know that no matter how it may look... ...I only had you in my heart. Goodbye. <i>Money before the panel earlier this year. </i> Happy birthday. Look at that. That is veggie bacon. Believe it or not. Zero cholesterol... ...and you won't even taste the difference. What time do you think you'll be home? Same time. I don't want him dicking you around tonight. You get paid till 5, you work till 5. No later. Hey. - Hey, happy birthday. - Well, thank you.\",\n",
       "  'labels': ['dialogue',\n",
       "   'self development',\n",
       "   'friendship',\n",
       "   'sacrifice',\n",
       "   'love',\n",
       "   'hope',\n",
       "   'battle',\n",
       "   'betrayal'],\n",
       "  'scores': [0.9105353355407715,\n",
       "   0.9059553146362305,\n",
       "   0.7920767068862915,\n",
       "   0.6805126667022705,\n",
       "   0.5174146890640259,\n",
       "   0.4667026400566101,\n",
       "   0.3984481990337372,\n",
       "   0.19175541400909424]}]"
      ]
     },
     "execution_count": 72,
     "metadata": {},
     "output_type": "execute_result"
    }
   ],
   "source": [
    "theme_output"
   ]
  },
  {
   "cell_type": "code",
   "execution_count": 73,
   "id": "5f4bd5a6",
   "metadata": {},
   "outputs": [],
   "source": [
    "themes = {}\n",
    "for output in theme_output:\n",
    "    for label,score in zip(output['labels'],output['scores']):\n",
    "        if label not in themes:\n",
    "            themes[label] = []\n",
    "        themes[label].append(score)"
   ]
  },
  {
   "cell_type": "code",
   "execution_count": 75,
   "id": "be0b1e3e",
   "metadata": {},
   "outputs": [],
   "source": [
    "themes = {key: np.mean(np.array(value)) for key,value in themes.items()}"
   ]
  },
  {
   "cell_type": "code",
   "execution_count": 76,
   "id": "f5010efb",
   "metadata": {},
   "outputs": [
    {
     "data": {
      "text/plain": [
       "{'love': np.float64(0.7269890308380127),\n",
       " 'dialogue': np.float64(0.7970314025878906),\n",
       " 'self development': np.float64(0.753075122833252),\n",
       " 'friendship': np.float64(0.677779346704483),\n",
       " 'hope': np.float64(0.5082028210163116),\n",
       " 'sacrifice': np.float64(0.5611232966184616),\n",
       " 'battle': np.float64(0.37212900817394257),\n",
       " 'betrayal': np.float64(0.17746704071760178)}"
      ]
     },
     "execution_count": 76,
     "metadata": {},
     "output_type": "execute_result"
    }
   ],
   "source": [
    "themes"
   ]
  },
  {
   "cell_type": "code",
   "execution_count": 79,
   "id": "23cafd13",
   "metadata": {},
   "outputs": [],
   "source": [
    "def get_themes_inference(script):\n",
    "    script_sentences = sent_tokenize(script)\n",
    "\n",
    "    # Batch Sentence\n",
    "    sentence_batch_size=20\n",
    "    script_batches = []\n",
    "    for index in range(0,len(script_sentences),sentence_batch_size):\n",
    "        sent = \" \".join(script_sentences[index:index+sentence_batch_size])\n",
    "        script_batches.append(sent)\n",
    "    \n",
    "    # Run Model\n",
    "    theme_output = theme_classifier(\n",
    "        script_batches[:2],\n",
    "        theme_list,\n",
    "        multi_label=True\n",
    "    )\n",
    "\n",
    "    # Wrangle Output \n",
    "    themes = {}\n",
    "    for output in theme_output:\n",
    "        for label,score in zip(output['labels'],output['scores']):\n",
    "            if label not in themes:\n",
    "                themes[label] = []\n",
    "            themes[label].append(score)\n",
    "\n",
    "    themes = {key: np.mean(np.array(value)) for key,value in themes.items()}\n",
    "\n",
    "    return themes"
   ]
  },
  {
   "cell_type": "code",
   "execution_count": 80,
   "id": "c736509b",
   "metadata": {},
   "outputs": [],
   "source": [
    "df = df.head(2)"
   ]
  },
  {
   "cell_type": "code",
   "execution_count": 81,
   "id": "ad62df36",
   "metadata": {},
   "outputs": [
    {
     "data": {
      "text/html": [
       "<div>\n",
       "<style scoped>\n",
       "    .dataframe tbody tr th:only-of-type {\n",
       "        vertical-align: middle;\n",
       "    }\n",
       "\n",
       "    .dataframe tbody tr th {\n",
       "        vertical-align: top;\n",
       "    }\n",
       "\n",
       "    .dataframe thead th {\n",
       "        text-align: right;\n",
       "    }\n",
       "</style>\n",
       "<table border=\"1\" class=\"dataframe\">\n",
       "  <thead>\n",
       "    <tr style=\"text-align: right;\">\n",
       "      <th></th>\n",
       "      <th>season</th>\n",
       "      <th>episode</th>\n",
       "      <th>script</th>\n",
       "    </tr>\n",
       "  </thead>\n",
       "  <tbody>\n",
       "    <tr>\n",
       "      <th>0</th>\n",
       "      <td>1</td>\n",
       "      <td>1</td>\n",
       "      <td>Oh, my god. Christ! Shit. Oh, God. Oh, my God....</td>\n",
       "    </tr>\n",
       "    <tr>\n",
       "      <th>1</th>\n",
       "      <td>1</td>\n",
       "      <td>2</td>\n",
       "      <td>Are you okay? - You are a lifesaver. - Yeah, m...</td>\n",
       "    </tr>\n",
       "  </tbody>\n",
       "</table>\n",
       "</div>"
      ],
      "text/plain": [
       "   season  episode                                             script\n",
       "0       1        1  Oh, my god. Christ! Shit. Oh, God. Oh, my God....\n",
       "1       1        2  Are you okay? - You are a lifesaver. - Yeah, m..."
      ]
     },
     "execution_count": 81,
     "metadata": {},
     "output_type": "execute_result"
    }
   ],
   "source": [
    "df"
   ]
  },
  {
   "cell_type": "code",
   "execution_count": 82,
   "id": "defc33dc",
   "metadata": {},
   "outputs": [],
   "source": [
    "output_themes = df['script'].apply(get_themes_inference)"
   ]
  },
  {
   "cell_type": "code",
   "execution_count": 83,
   "id": "adcb64e2",
   "metadata": {},
   "outputs": [
    {
     "data": {
      "text/plain": [
       "0    {'love': 0.7269890308380127, 'dialogue': 0.797...\n",
       "1    {'dialogue': 0.9539689719676971, 'sacrifice': ...\n",
       "Name: script, dtype: object"
      ]
     },
     "execution_count": 83,
     "metadata": {},
     "output_type": "execute_result"
    }
   ],
   "source": [
    "output_themes"
   ]
  },
  {
   "cell_type": "code",
   "execution_count": 84,
   "id": "2c2657b2",
   "metadata": {},
   "outputs": [],
   "source": [
    "theme_df = pd.DataFrame(output_themes.tolist())"
   ]
  },
  {
   "cell_type": "code",
   "execution_count": 85,
   "id": "f09f791a",
   "metadata": {},
   "outputs": [
    {
     "data": {
      "text/html": [
       "<div>\n",
       "<style scoped>\n",
       "    .dataframe tbody tr th:only-of-type {\n",
       "        vertical-align: middle;\n",
       "    }\n",
       "\n",
       "    .dataframe tbody tr th {\n",
       "        vertical-align: top;\n",
       "    }\n",
       "\n",
       "    .dataframe thead th {\n",
       "        text-align: right;\n",
       "    }\n",
       "</style>\n",
       "<table border=\"1\" class=\"dataframe\">\n",
       "  <thead>\n",
       "    <tr style=\"text-align: right;\">\n",
       "      <th></th>\n",
       "      <th>love</th>\n",
       "      <th>dialogue</th>\n",
       "      <th>self development</th>\n",
       "      <th>friendship</th>\n",
       "      <th>hope</th>\n",
       "      <th>sacrifice</th>\n",
       "      <th>battle</th>\n",
       "      <th>betrayal</th>\n",
       "    </tr>\n",
       "  </thead>\n",
       "  <tbody>\n",
       "    <tr>\n",
       "      <th>0</th>\n",
       "      <td>0.726989</td>\n",
       "      <td>0.797031</td>\n",
       "      <td>0.753075</td>\n",
       "      <td>0.677779</td>\n",
       "      <td>0.508203</td>\n",
       "      <td>0.561123</td>\n",
       "      <td>0.372129</td>\n",
       "      <td>0.177467</td>\n",
       "    </tr>\n",
       "    <tr>\n",
       "      <th>1</th>\n",
       "      <td>0.292626</td>\n",
       "      <td>0.953969</td>\n",
       "      <td>0.748378</td>\n",
       "      <td>0.529181</td>\n",
       "      <td>0.511179</td>\n",
       "      <td>0.854497</td>\n",
       "      <td>0.577626</td>\n",
       "      <td>0.588857</td>\n",
       "    </tr>\n",
       "  </tbody>\n",
       "</table>\n",
       "</div>"
      ],
      "text/plain": [
       "       love  dialogue  self development  friendship      hope  sacrifice  \\\n",
       "0  0.726989  0.797031          0.753075    0.677779  0.508203   0.561123   \n",
       "1  0.292626  0.953969          0.748378    0.529181  0.511179   0.854497   \n",
       "\n",
       "     battle  betrayal  \n",
       "0  0.372129  0.177467  \n",
       "1  0.577626  0.588857  "
      ]
     },
     "execution_count": 85,
     "metadata": {},
     "output_type": "execute_result"
    }
   ],
   "source": [
    "theme_df"
   ]
  },
  {
   "cell_type": "code",
   "execution_count": 86,
   "id": "7ce59247",
   "metadata": {},
   "outputs": [
    {
     "data": {
      "text/html": [
       "<div>\n",
       "<style scoped>\n",
       "    .dataframe tbody tr th:only-of-type {\n",
       "        vertical-align: middle;\n",
       "    }\n",
       "\n",
       "    .dataframe tbody tr th {\n",
       "        vertical-align: top;\n",
       "    }\n",
       "\n",
       "    .dataframe thead th {\n",
       "        text-align: right;\n",
       "    }\n",
       "</style>\n",
       "<table border=\"1\" class=\"dataframe\">\n",
       "  <thead>\n",
       "    <tr style=\"text-align: right;\">\n",
       "      <th></th>\n",
       "      <th>season</th>\n",
       "      <th>episode</th>\n",
       "      <th>script</th>\n",
       "    </tr>\n",
       "  </thead>\n",
       "  <tbody>\n",
       "    <tr>\n",
       "      <th>0</th>\n",
       "      <td>1</td>\n",
       "      <td>1</td>\n",
       "      <td>Oh, my god. Christ! Shit. Oh, God. Oh, my God....</td>\n",
       "    </tr>\n",
       "    <tr>\n",
       "      <th>1</th>\n",
       "      <td>1</td>\n",
       "      <td>2</td>\n",
       "      <td>Are you okay? - You are a lifesaver. - Yeah, m...</td>\n",
       "    </tr>\n",
       "  </tbody>\n",
       "</table>\n",
       "</div>"
      ],
      "text/plain": [
       "   season  episode                                             script\n",
       "0       1        1  Oh, my god. Christ! Shit. Oh, God. Oh, my God....\n",
       "1       1        2  Are you okay? - You are a lifesaver. - Yeah, m..."
      ]
     },
     "execution_count": 86,
     "metadata": {},
     "output_type": "execute_result"
    }
   ],
   "source": [
    "df"
   ]
  },
  {
   "cell_type": "code",
   "execution_count": 87,
   "id": "072521c3",
   "metadata": {},
   "outputs": [
    {
     "data": {
      "text/html": [
       "<div>\n",
       "<style scoped>\n",
       "    .dataframe tbody tr th:only-of-type {\n",
       "        vertical-align: middle;\n",
       "    }\n",
       "\n",
       "    .dataframe tbody tr th {\n",
       "        vertical-align: top;\n",
       "    }\n",
       "\n",
       "    .dataframe thead th {\n",
       "        text-align: right;\n",
       "    }\n",
       "</style>\n",
       "<table border=\"1\" class=\"dataframe\">\n",
       "  <thead>\n",
       "    <tr style=\"text-align: right;\">\n",
       "      <th></th>\n",
       "      <th>season</th>\n",
       "      <th>episode</th>\n",
       "      <th>script</th>\n",
       "      <th>love</th>\n",
       "      <th>dialogue</th>\n",
       "      <th>self development</th>\n",
       "      <th>friendship</th>\n",
       "      <th>hope</th>\n",
       "      <th>sacrifice</th>\n",
       "      <th>battle</th>\n",
       "      <th>betrayal</th>\n",
       "    </tr>\n",
       "  </thead>\n",
       "  <tbody>\n",
       "    <tr>\n",
       "      <th>0</th>\n",
       "      <td>1</td>\n",
       "      <td>1</td>\n",
       "      <td>Oh, my god. Christ! Shit. Oh, God. Oh, my God....</td>\n",
       "      <td>0.726989</td>\n",
       "      <td>0.797031</td>\n",
       "      <td>0.753075</td>\n",
       "      <td>0.677779</td>\n",
       "      <td>0.508203</td>\n",
       "      <td>0.561123</td>\n",
       "      <td>0.372129</td>\n",
       "      <td>0.177467</td>\n",
       "    </tr>\n",
       "    <tr>\n",
       "      <th>1</th>\n",
       "      <td>1</td>\n",
       "      <td>2</td>\n",
       "      <td>Are you okay? - You are a lifesaver. - Yeah, m...</td>\n",
       "      <td>0.292626</td>\n",
       "      <td>0.953969</td>\n",
       "      <td>0.748378</td>\n",
       "      <td>0.529181</td>\n",
       "      <td>0.511179</td>\n",
       "      <td>0.854497</td>\n",
       "      <td>0.577626</td>\n",
       "      <td>0.588857</td>\n",
       "    </tr>\n",
       "  </tbody>\n",
       "</table>\n",
       "</div>"
      ],
      "text/plain": [
       "   season  episode                                             script  \\\n",
       "0       1        1  Oh, my god. Christ! Shit. Oh, God. Oh, my God....   \n",
       "1       1        2  Are you okay? - You are a lifesaver. - Yeah, m...   \n",
       "\n",
       "       love  dialogue  self development  friendship      hope  sacrifice  \\\n",
       "0  0.726989  0.797031          0.753075    0.677779  0.508203   0.561123   \n",
       "1  0.292626  0.953969          0.748378    0.529181  0.511179   0.854497   \n",
       "\n",
       "     battle  betrayal  \n",
       "0  0.372129  0.177467  \n",
       "1  0.577626  0.588857  "
      ]
     },
     "execution_count": 87,
     "metadata": {},
     "output_type": "execute_result"
    }
   ],
   "source": [
    "df[theme_df.columns] = theme_df\n",
    "df"
   ]
  },
  {
   "cell_type": "code",
   "execution_count": 97,
   "id": "2993923d",
   "metadata": {},
   "outputs": [],
   "source": [
    "df = df.drop('season',axis=1)"
   ]
  },
  {
   "cell_type": "code",
   "execution_count": 100,
   "id": "8440f3ae",
   "metadata": {},
   "outputs": [
    {
     "data": {
      "text/html": [
       "<div>\n",
       "<style scoped>\n",
       "    .dataframe tbody tr th:only-of-type {\n",
       "        vertical-align: middle;\n",
       "    }\n",
       "\n",
       "    .dataframe tbody tr th {\n",
       "        vertical-align: top;\n",
       "    }\n",
       "\n",
       "    .dataframe thead th {\n",
       "        text-align: right;\n",
       "    }\n",
       "</style>\n",
       "<table border=\"1\" class=\"dataframe\">\n",
       "  <thead>\n",
       "    <tr style=\"text-align: right;\">\n",
       "      <th></th>\n",
       "      <th>theme</th>\n",
       "      <th>score</th>\n",
       "    </tr>\n",
       "  </thead>\n",
       "  <tbody>\n",
       "    <tr>\n",
       "      <th>0</th>\n",
       "      <td>love</td>\n",
       "      <td>1.019615</td>\n",
       "    </tr>\n",
       "    <tr>\n",
       "      <th>1</th>\n",
       "      <td>self development</td>\n",
       "      <td>1.501453</td>\n",
       "    </tr>\n",
       "    <tr>\n",
       "      <th>2</th>\n",
       "      <td>friendship</td>\n",
       "      <td>1.206961</td>\n",
       "    </tr>\n",
       "    <tr>\n",
       "      <th>3</th>\n",
       "      <td>hope</td>\n",
       "      <td>1.019382</td>\n",
       "    </tr>\n",
       "    <tr>\n",
       "      <th>4</th>\n",
       "      <td>sacrifice</td>\n",
       "      <td>1.415620</td>\n",
       "    </tr>\n",
       "    <tr>\n",
       "      <th>5</th>\n",
       "      <td>battle</td>\n",
       "      <td>0.949755</td>\n",
       "    </tr>\n",
       "    <tr>\n",
       "      <th>6</th>\n",
       "      <td>betrayal</td>\n",
       "      <td>0.766324</td>\n",
       "    </tr>\n",
       "  </tbody>\n",
       "</table>\n",
       "</div>"
      ],
      "text/plain": [
       "              theme     score\n",
       "0              love  1.019615\n",
       "1  self development  1.501453\n",
       "2        friendship  1.206961\n",
       "3              hope  1.019382\n",
       "4         sacrifice  1.415620\n",
       "5            battle  0.949755\n",
       "6          betrayal  0.766324"
      ]
     },
     "execution_count": 100,
     "metadata": {},
     "output_type": "execute_result"
    }
   ],
   "source": [
    "theme_output = df.drop(['episode','script'],axis=1).sum().reset_index()\n",
    "theme_output.columns = ['theme','score']\n",
    "theme_output"
   ]
  },
  {
   "cell_type": "code",
   "execution_count": 101,
   "id": "76bb6563",
   "metadata": {},
   "outputs": [
    {
     "name": "stdout",
     "output_type": "stream",
     "text": [
      "Requirement already satisfied: seaborn in c:\\users\\user\\desktop\\breaking bad series analysis\\venv\\lib\\site-packages (0.13.2)\n",
      "Requirement already satisfied: numpy!=1.24.0,>=1.20 in c:\\users\\user\\desktop\\breaking bad series analysis\\venv\\lib\\site-packages (from seaborn) (2.3.2)\n",
      "Requirement already satisfied: pandas>=1.2 in c:\\users\\user\\desktop\\breaking bad series analysis\\venv\\lib\\site-packages (from seaborn) (2.3.1)\n",
      "Requirement already satisfied: matplotlib!=3.6.1,>=3.4 in c:\\users\\user\\desktop\\breaking bad series analysis\\venv\\lib\\site-packages (from seaborn) (3.10.5)\n",
      "Requirement already satisfied: contourpy>=1.0.1 in c:\\users\\user\\desktop\\breaking bad series analysis\\venv\\lib\\site-packages (from matplotlib!=3.6.1,>=3.4->seaborn) (1.3.3)\n",
      "Requirement already satisfied: cycler>=0.10 in c:\\users\\user\\desktop\\breaking bad series analysis\\venv\\lib\\site-packages (from matplotlib!=3.6.1,>=3.4->seaborn) (0.12.1)\n",
      "Requirement already satisfied: fonttools>=4.22.0 in c:\\users\\user\\desktop\\breaking bad series analysis\\venv\\lib\\site-packages (from matplotlib!=3.6.1,>=3.4->seaborn) (4.59.1)\n",
      "Requirement already satisfied: kiwisolver>=1.3.1 in c:\\users\\user\\desktop\\breaking bad series analysis\\venv\\lib\\site-packages (from matplotlib!=3.6.1,>=3.4->seaborn) (1.4.9)\n",
      "Requirement already satisfied: packaging>=20.0 in c:\\users\\user\\desktop\\breaking bad series analysis\\venv\\lib\\site-packages (from matplotlib!=3.6.1,>=3.4->seaborn) (25.0)\n",
      "Requirement already satisfied: pillow>=8 in c:\\users\\user\\desktop\\breaking bad series analysis\\venv\\lib\\site-packages (from matplotlib!=3.6.1,>=3.4->seaborn) (11.3.0)\n",
      "Requirement already satisfied: pyparsing>=2.3.1 in c:\\users\\user\\desktop\\breaking bad series analysis\\venv\\lib\\site-packages (from matplotlib!=3.6.1,>=3.4->seaborn) (3.2.3)\n",
      "Requirement already satisfied: python-dateutil>=2.7 in c:\\users\\user\\desktop\\breaking bad series analysis\\venv\\lib\\site-packages (from matplotlib!=3.6.1,>=3.4->seaborn) (2.9.0.post0)\n",
      "Requirement already satisfied: pytz>=2020.1 in c:\\users\\user\\desktop\\breaking bad series analysis\\venv\\lib\\site-packages (from pandas>=1.2->seaborn) (2025.2)\n",
      "Requirement already satisfied: tzdata>=2022.7 in c:\\users\\user\\desktop\\breaking bad series analysis\\venv\\lib\\site-packages (from pandas>=1.2->seaborn) (2025.2)\n",
      "Requirement already satisfied: six>=1.5 in c:\\users\\user\\desktop\\breaking bad series analysis\\venv\\lib\\site-packages (from python-dateutil>=2.7->matplotlib!=3.6.1,>=3.4->seaborn) (1.17.0)\n",
      "Note: you may need to restart the kernel to use updated packages.\n"
     ]
    }
   ],
   "source": [
    "%pip install seaborn"
   ]
  },
  {
   "cell_type": "code",
   "execution_count": 102,
   "id": "91880a2d",
   "metadata": {},
   "outputs": [],
   "source": [
    "import matplotlib.pyplot as plt\n",
    "import seaborn as sns"
   ]
  },
  {
   "cell_type": "code",
   "execution_count": 103,
   "id": "20bae78c",
   "metadata": {},
   "outputs": [
    {
     "data": {
      "image/png": "[encoded data removed]",
      "text/plain": [
       "<Figure size 640x480 with 1 Axes>"
      ]
     },
     "metadata": {},
     "output_type": "display_data"
    }
   ],
   "source": [
    "sns.barplot(data = theme_output ,x=\"theme\",y=\"score\" )\n",
    "plt.xticks(rotation=45)\n",
    "plt.show()\n",
    "\n"
   ]
  },
  {
   "cell_type": "code",
   "execution_count": null,
   "id": "c282813c",
   "metadata": {},
   "outputs": [],
   "source": []
  },
  {
   "cell_type": "code",
   "execution_count": null,
   "id": "d7ab259e",
   "metadata": {},
   "outputs": [],
   "source": []
  }
 ],
 "metadata": {
  "kernelspec": {
   "display_name": "venv",
   "language": "python",
   "name": "python3"
  },
  "language_info": {
   "codemirror_mode": {
    "name": "ipython",
    "version": 3
   },
   "file_extension": ".py",
   "mimetype": "text/x-python",
   "name": "python",
   "nbconvert_exporter": "python",
   "pygments_lexer": "ipython3",
   "version": "3.13.2"
  }
 },
 "nbformat": 4,
 "nbformat_minor": 5
}
