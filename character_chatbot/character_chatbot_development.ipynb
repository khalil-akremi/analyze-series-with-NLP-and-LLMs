{
 "cells": [
  {
   "cell_type": "code",
   "execution_count": 29,
   "id": "1161bac5",
   "metadata": {},
   "outputs": [],
   "source": [
    "import pandas as pd\n",
    "import re\n",
    "from datasets import Dataset"
   ]
  },
  {
   "cell_type": "code",
   "execution_count": 59,
   "id": "b1f21bc3",
   "metadata": {},
   "outputs": [],
   "source": [
    "data_path = \"../data/BB_data.csv\"\n",
    "df = pd.read_csv(data_path)\n",
    "# Remove any rows that contain NaN values\n",
    "df = df.dropna()"
   ]
  },
  {
   "cell_type": "code",
   "execution_count": 60,
   "id": "084414d5",
   "metadata": {},
   "outputs": [
    {
     "data": {
      "text/html": [
       "<div>\n",
       "<style scoped>\n",
       "    .dataframe tbody tr th:only-of-type {\n",
       "        vertical-align: middle;\n",
       "    }\n",
       "\n",
       "    .dataframe tbody tr th {\n",
       "        vertical-align: top;\n",
       "    }\n",
       "\n",
       "    .dataframe thead th {\n",
       "        text-align: right;\n",
       "    }\n",
       "</style>\n",
       "<table border=\"1\" class=\"dataframe\">\n",
       "  <thead>\n",
       "    <tr style=\"text-align: right;\">\n",
       "      <th></th>\n",
       "      <th>actor</th>\n",
       "      <th>text</th>\n",
       "      <th>season</th>\n",
       "      <th>episode</th>\n",
       "      <th>title</th>\n",
       "    </tr>\n",
       "  </thead>\n",
       "  <tbody>\n",
       "    <tr>\n",
       "      <th>0</th>\n",
       "      <td>Walter</td>\n",
       "      <td>My name is Walter Hartwell White. I live at 30...</td>\n",
       "      <td>1</td>\n",
       "      <td>1</td>\n",
       "      <td>The Pilot</td>\n",
       "    </tr>\n",
       "    <tr>\n",
       "      <th>1</th>\n",
       "      <td>Skyler</td>\n",
       "      <td>Happy Birthday.</td>\n",
       "      <td>1</td>\n",
       "      <td>1</td>\n",
       "      <td>The Pilot</td>\n",
       "    </tr>\n",
       "    <tr>\n",
       "      <th>2</th>\n",
       "      <td>Walter</td>\n",
       "      <td>Look at that.</td>\n",
       "      <td>1</td>\n",
       "      <td>1</td>\n",
       "      <td>The Pilot</td>\n",
       "    </tr>\n",
       "    <tr>\n",
       "      <th>3</th>\n",
       "      <td>Skyler</td>\n",
       "      <td>That is veggie bacon. Believe it or not. Zero ...</td>\n",
       "      <td>1</td>\n",
       "      <td>1</td>\n",
       "      <td>The Pilot</td>\n",
       "    </tr>\n",
       "    <tr>\n",
       "      <th>4</th>\n",
       "      <td>Walter</td>\n",
       "      <td>Same time.</td>\n",
       "      <td>1</td>\n",
       "      <td>1</td>\n",
       "      <td>The Pilot</td>\n",
       "    </tr>\n",
       "  </tbody>\n",
       "</table>\n",
       "</div>"
      ],
      "text/plain": [
       "    actor                                               text  season  episode  \\\n",
       "0  Walter  My name is Walter Hartwell White. I live at 30...       1        1   \n",
       "1  Skyler                                    Happy Birthday.       1        1   \n",
       "2  Walter                                      Look at that.       1        1   \n",
       "3  Skyler  That is veggie bacon. Believe it or not. Zero ...       1        1   \n",
       "4  Walter                                         Same time.       1        1   \n",
       "\n",
       "       title  \n",
       "0  The Pilot  \n",
       "1  The Pilot  \n",
       "2  The Pilot  \n",
       "3  The Pilot  \n",
       "4  The Pilot  "
      ]
     },
     "execution_count": 60,
     "metadata": {},
     "output_type": "execute_result"
    }
   ],
   "source": [
    "df.head()"
   ]
  },
  {
   "cell_type": "code",
   "execution_count": 61,
   "id": "f34f8828",
   "metadata": {},
   "outputs": [
    {
     "name": "stdout",
     "output_type": "stream",
     "text": [
      "    actor                                               text\n",
      "0  Walter  My name is Walter Hartwell White. I live at 30...\n",
      "1  Skyler                                    Happy Birthday.\n",
      "2  Walter                                      Look at that.\n",
      "3  Skyler  That is veggie bacon. Believe it or not. Zero ...\n",
      "4  Walter                                         Same time.\n"
     ]
    }
   ],
   "source": [
    "\n",
    "df = df.drop(columns=[\"season\"])\n",
    "df = df.drop(columns=[\"episode\"])\n",
    "df = df.drop(columns=[\"title\"])\n",
    "\n",
    "\n",
    "# Save cleaned dataset (optional)\n",
    "df.to_csv(\"bb_data_cleaned.csv\", index=False)\n",
    "\n",
    "print(df.head())"
   ]
  },
  {
   "cell_type": "code",
   "execution_count": 62,
   "id": "ae2d0547",
   "metadata": {},
   "outputs": [],
   "source": [
    "df['number_of_words'] = df['text'].str.strip().str.split(\" \")\n",
    "df['number_of_words'] = df['number_of_words'].apply(lambda x: len(x) if isinstance(x, list) else 0)"
   ]
  },
  {
   "cell_type": "code",
   "execution_count": 63,
   "id": "0cb9fd04",
   "metadata": {},
   "outputs": [
    {
     "data": {
      "text/html": [
       "<div>\n",
       "<style scoped>\n",
       "    .dataframe tbody tr th:only-of-type {\n",
       "        vertical-align: middle;\n",
       "    }\n",
       "\n",
       "    .dataframe tbody tr th {\n",
       "        vertical-align: top;\n",
       "    }\n",
       "\n",
       "    .dataframe thead th {\n",
       "        text-align: right;\n",
       "    }\n",
       "</style>\n",
       "<table border=\"1\" class=\"dataframe\">\n",
       "  <thead>\n",
       "    <tr style=\"text-align: right;\">\n",
       "      <th></th>\n",
       "      <th>actor</th>\n",
       "      <th>text</th>\n",
       "      <th>number_of_words</th>\n",
       "    </tr>\n",
       "  </thead>\n",
       "  <tbody>\n",
       "    <tr>\n",
       "      <th>0</th>\n",
       "      <td>Walter</td>\n",
       "      <td>My name is Walter Hartwell White. I live at 30...</td>\n",
       "      <td>96</td>\n",
       "    </tr>\n",
       "    <tr>\n",
       "      <th>1</th>\n",
       "      <td>Skyler</td>\n",
       "      <td>Happy Birthday.</td>\n",
       "      <td>2</td>\n",
       "    </tr>\n",
       "    <tr>\n",
       "      <th>2</th>\n",
       "      <td>Walter</td>\n",
       "      <td>Look at that.</td>\n",
       "      <td>3</td>\n",
       "    </tr>\n",
       "    <tr>\n",
       "      <th>3</th>\n",
       "      <td>Skyler</td>\n",
       "      <td>That is veggie bacon. Believe it or not. Zero ...</td>\n",
       "      <td>24</td>\n",
       "    </tr>\n",
       "    <tr>\n",
       "      <th>4</th>\n",
       "      <td>Walter</td>\n",
       "      <td>Same time.</td>\n",
       "      <td>2</td>\n",
       "    </tr>\n",
       "  </tbody>\n",
       "</table>\n",
       "</div>"
      ],
      "text/plain": [
       "    actor                                               text  number_of_words\n",
       "0  Walter  My name is Walter Hartwell White. I live at 30...               96\n",
       "1  Skyler                                    Happy Birthday.                2\n",
       "2  Walter                                      Look at that.                3\n",
       "3  Skyler  That is veggie bacon. Believe it or not. Zero ...               24\n",
       "4  Walter                                         Same time.                2"
      ]
     },
     "execution_count": 63,
     "metadata": {},
     "output_type": "execute_result"
    }
   ],
   "source": [
    "df.head()"
   ]
  },
  {
   "cell_type": "code",
   "execution_count": 64,
   "id": "dae01097",
   "metadata": {},
   "outputs": [],
   "source": [
    "df['walter_response_flag'] = 0\n",
    "df.loc[(df['actor']==\"Walter\")&(df['number_of_words']>5),'walter_response_flag']=1"
   ]
  },
  {
   "cell_type": "code",
   "execution_count": 65,
   "id": "fab9ec3d",
   "metadata": {},
   "outputs": [],
   "source": [
    "indexes_to_take = df.index[df['walter_response_flag'] == 1].tolist()"
   ]
  },
  {
   "cell_type": "code",
   "execution_count": 66,
   "id": "9a58c5d2",
   "metadata": {},
   "outputs": [
    {
     "data": {
      "text/plain": [
       "[0, 14, 16]"
      ]
     },
     "execution_count": 66,
     "metadata": {},
     "output_type": "execute_result"
    }
   ],
   "source": [
    "indexes_to_take[:3]"
   ]
  },
  {
   "cell_type": "code",
   "execution_count": 67,
   "id": "193511d6",
   "metadata": {},
   "outputs": [],
   "source": [
    "system_promt = \"\"\"\" Your are Walter White from the TV series \"Breaking Bad\". Your responses should reflect his personality and speech patterns \\n\"\"\"\n",
    "\n",
    "prompts = []\n",
    "for ind in indexes_to_take:\n",
    "    prompt = system_promt\n",
    "\n",
    "    prompt += df.iloc[ind -1]['text']\n",
    "    prompt += '\\n'\n",
    "    prompt += df.iloc[ind]['text']\n",
    "    prompts.append(prompt)"
   ]
  },
  {
   "cell_type": "code",
   "execution_count": 71,
   "id": "2d0142c5",
   "metadata": {},
   "outputs": [
    {
     "name": "stdout",
     "output_type": "stream",
     "text": [
      "\" Your are Walter White from the TV series \"Breaking Bad\". Your responses should reflect his personality and speech patterns \n",
      "Did you take your Echinacea?\n",
      "Yeah. I think it's getting better.\n"
     ]
    }
   ],
   "source": [
    "print(prompts[1])\n"
   ]
  },
  {
   "cell_type": "code",
   "execution_count": 72,
   "id": "60f82760",
   "metadata": {},
   "outputs": [
    {
     "data": {
      "text/html": [
       "<div>\n",
       "<style scoped>\n",
       "    .dataframe tbody tr th:only-of-type {\n",
       "        vertical-align: middle;\n",
       "    }\n",
       "\n",
       "    .dataframe tbody tr th {\n",
       "        vertical-align: top;\n",
       "    }\n",
       "\n",
       "    .dataframe thead th {\n",
       "        text-align: right;\n",
       "    }\n",
       "</style>\n",
       "<table border=\"1\" class=\"dataframe\">\n",
       "  <thead>\n",
       "    <tr style=\"text-align: right;\">\n",
       "      <th></th>\n",
       "      <th>prompt</th>\n",
       "    </tr>\n",
       "  </thead>\n",
       "  <tbody>\n",
       "    <tr>\n",
       "      <th>0</th>\n",
       "      <td>\" Your are Walter White from the TV series \"Br...</td>\n",
       "    </tr>\n",
       "    <tr>\n",
       "      <th>1</th>\n",
       "      <td>\" Your are Walter White from the TV series \"Br...</td>\n",
       "    </tr>\n",
       "    <tr>\n",
       "      <th>2</th>\n",
       "      <td>\" Your are Walter White from the TV series \"Br...</td>\n",
       "    </tr>\n",
       "    <tr>\n",
       "      <th>3</th>\n",
       "      <td>\" Your are Walter White from the TV series \"Br...</td>\n",
       "    </tr>\n",
       "    <tr>\n",
       "      <th>4</th>\n",
       "      <td>\" Your are Walter White from the TV series \"Br...</td>\n",
       "    </tr>\n",
       "  </tbody>\n",
       "</table>\n",
       "</div>"
      ],
      "text/plain": [
       "                                              prompt\n",
       "0  \" Your are Walter White from the TV series \"Br...\n",
       "1  \" Your are Walter White from the TV series \"Br...\n",
       "2  \" Your are Walter White from the TV series \"Br...\n",
       "3  \" Your are Walter White from the TV series \"Br...\n",
       "4  \" Your are Walter White from the TV series \"Br..."
      ]
     },
     "execution_count": 72,
     "metadata": {},
     "output_type": "execute_result"
    }
   ],
   "source": [
    "df = pd.DataFrame({\"prompt\":prompts})\n",
    "df.head()"
   ]
  },
  {
   "cell_type": "code",
   "execution_count": 74,
   "id": "887c8b5c",
   "metadata": {},
   "outputs": [],
   "source": [
    "dataset = Dataset.from_pandas(df)"
   ]
  },
  {
   "cell_type": "code",
   "execution_count": null,
   "id": "4eef05a7",
   "metadata": {},
   "outputs": [],
   "source": []
  }
 ],
 "metadata": {
  "kernelspec": {
   "display_name": "venv",
   "language": "python",
   "name": "python3"
  },
  "language_info": {
   "codemirror_mode": {
    "name": "ipython",
    "version": 3
   },
   "file_extension": ".py",
   "mimetype": "text/x-python",
   "name": "python",
   "nbconvert_exporter": "python",
   "pygments_lexer": "ipython3",
   "version": "3.13.2"
  }
 },
 "nbformat": 4,
 "nbformat_minor": 5
}
